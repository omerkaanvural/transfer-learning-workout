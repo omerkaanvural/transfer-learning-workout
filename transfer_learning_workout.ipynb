{
 "cells": [
  {
   "cell_type": "code",
   "execution_count": 1,
   "metadata": {
    "id": "NtSIOYU6T3go"
   },
   "outputs": [],
   "source": [
    "import numpy as np\n",
    "import tensorflow as tf\n",
    "from tensorflow import keras\n",
    "from tensorflow.keras.models import Sequential, Model\n",
    "from tensorflow.keras.layers import Activation, Dense, Flatten, BatchNormalization, Conv2D, MaxPool2D, Dropout, Input, GlobalAveragePooling2D\n",
    "from tensorflow.keras.optimizers import Adam\n",
    "from tensorflow.keras.metrics import categorical_crossentropy\n",
    "from tensorflow.keras.preprocessing.image import ImageDataGenerator\n",
    "from tensorflow.keras.preprocessing import image\n",
    "from tensorflow.keras.applications.resnet50 import preprocess_input, decode_predictions\n",
    "from sklearn.metrics import confusion_matrix\n",
    "import os"
   ]
  },
  {
   "cell_type": "code",
   "execution_count": 2,
   "metadata": {
    "colab": {
     "base_uri": "https://localhost:8080/",
     "height": 36
    },
    "id": "CsNSmQO1c2m5",
    "outputId": "71f763aa-2812-46d4-976d-9152792260e2"
   },
   "outputs": [
    {
     "data": {
      "application/vnd.google.colaboratory.intrinsic+json": {
       "type": "string"
      },
      "text/plain": [
       "'/device:GPU:0'"
      ]
     },
     "execution_count": 2,
     "metadata": {},
     "output_type": "execute_result"
    }
   ],
   "source": [
    "# for stronger gpu\n",
    "tf.test.gpu_device_name()"
   ]
  },
  {
   "cell_type": "code",
   "execution_count": 3,
   "metadata": {
    "colab": {
     "base_uri": "https://localhost:8080/"
    },
    "id": "emw_Gvg1T8sH",
    "outputId": "8d981943-e3cd-4c53-f53b-4f9e9383ebf1"
   },
   "outputs": [
    {
     "name": "stdout",
     "output_type": "stream",
     "text": [
      "Mounted at /content/drive\n"
     ]
    }
   ],
   "source": [
    "from google.colab import drive\n",
    "drive.mount('/content/drive')"
   ]
  },
  {
   "cell_type": "code",
   "execution_count": 4,
   "metadata": {
    "id": "Mqmi3fx4UAlQ"
   },
   "outputs": [],
   "source": [
    "# Define data path\n",
    "data_path=\"/content/drive/MyDrive/dataset\"\n",
    "data_dir_list = os.listdir(data_path)"
   ]
  },
  {
   "cell_type": "code",
   "execution_count": 53,
   "metadata": {
    "colab": {
     "base_uri": "https://localhost:8080/"
    },
    "id": "rtAxXRAHUGAN",
    "outputId": "f5614ac9-262d-4f7d-c8f6-3ab8c6f57828"
   },
   "outputs": [
    {
     "name": "stdout",
     "output_type": "stream",
     "text": [
      "Rain\n",
      "Loaded the images of dataset-Rain\n",
      "\n",
      "Cloudy\n",
      "Loaded the images of dataset-Cloudy\n",
      "\n",
      "Sunrise\n",
      "Loaded the images of dataset-Sunrise\n",
      "\n",
      "Shine\n",
      "Loaded the images of dataset-Shine\n",
      "\n",
      "Input image shape: (1, 224, 224, 3)\n"
     ]
    }
   ],
   "source": [
    "img_data_list=[]\n",
    "\n",
    "# image list for collect all images in one container \n",
    "for dataset in data_dir_list[1:]:\n",
    "    print(dataset)\n",
    "    img_list=os.listdir(data_path+'/'+ dataset)\n",
    "    print('Loaded the images of dataset-'+'{}\\n'.format(dataset))\n",
    "    for img in img_list:\n",
    "        img_path = data_path + '/'+ dataset + '/'+ img\n",
    "        img = image.load_img(img_path, target_size=(224, 224))\n",
    "        x = image.img_to_array(img)\n",
    "        x = np.expand_dims(x, axis=0)\n",
    "        # using preprocess to image adjustment as dimensions\n",
    "        x = preprocess_input(x)\n",
    "  #\t\t  x = x/255\n",
    "        img_data_list.append(x)\n",
    "\n",
    "print('Input image shape:', img_data_list[0].shape)"
   ]
  },
  {
   "cell_type": "code",
   "execution_count": 54,
   "metadata": {
    "colab": {
     "base_uri": "https://localhost:8080/"
    },
    "id": "GXBma6C9UODe",
    "outputId": "463b31d6-4aaa-42a4-f7ac-885acb664f9d"
   },
   "outputs": [
    {
     "name": "stdout",
     "output_type": "stream",
     "text": [
      "(1126, 1, 224, 224, 3)\n",
      "(1, 1126, 224, 224, 3)\n",
      "(1126, 224, 224, 3)\n"
     ]
    }
   ],
   "source": [
    "# minor dimension adjustments\n",
    "img_data = np.array(img_data_list)\n",
    "print(img_data.shape)\n",
    "img_data=np.rollaxis(img_data,1,0)\n",
    "print(img_data.shape)\n",
    "img_data=img_data[0]\n",
    "print(img_data.shape)\n",
    "img_data = preprocess_input(img_data)"
   ]
  },
  {
   "cell_type": "code",
   "execution_count": 7,
   "metadata": {
    "id": "_g3qcJk-VWtj"
   },
   "outputs": [],
   "source": [
    "# labelling images\n",
    "num_classes = 4\n",
    "num_of_samples = img_data.shape[0]\n",
    "labels = np.ones((num_of_samples,),dtype='int64')\n",
    "\n",
    "labels[0:202]=0\n",
    "labels[202:404]=1\n",
    "labels[404:606]=2\n",
    "labels[606:]=3\n",
    "\n",
    "names = ['rain','cloudy','sunrise','shine']"
   ]
  },
  {
   "cell_type": "code",
   "execution_count": 8,
   "metadata": {
    "id": "QjLuDhXNVZJM"
   },
   "outputs": [],
   "source": [
    "from keras.utils import np_utils\n",
    "from sklearn.utils import shuffle\n",
    "from sklearn.model_selection import train_test_split"
   ]
  },
  {
   "cell_type": "code",
   "execution_count": 9,
   "metadata": {
    "colab": {
     "base_uri": "https://localhost:8080/"
    },
    "id": "PhU0QfB8VbJo",
    "outputId": "b8769315-d9a7-4a60-9a59-d618feaf56d6"
   },
   "outputs": [
    {
     "name": "stdout",
     "output_type": "stream",
     "text": [
      "[[1. 0. 0. 0.]\n",
      " [1. 0. 0. 0.]\n",
      " [1. 0. 0. 0.]\n",
      " ...\n",
      " [0. 0. 0. 1.]\n",
      " [0. 0. 0. 1.]\n",
      " [0. 0. 0. 1.]]\n"
     ]
    }
   ],
   "source": [
    "# matching labels and datas into one \n",
    "Y = np_utils.to_categorical(labels, num_classes)\n",
    "print(Y)\n",
    "#Shuffle the dataset\n",
    "x,y = shuffle(img_data,Y, random_state=1)\n",
    "# Split the dataset\n",
    "X_train, X_test, y_train, y_test = train_test_split(x, y, test_size=0.2, random_state=1)"
   ]
  },
  {
   "cell_type": "code",
   "execution_count": 10,
   "metadata": {
    "id": "DMLWnhWZVc1K"
   },
   "outputs": [],
   "source": [
    "from PIL import Image\n",
    "im = Image.fromarray((X_train[0] * 255).astype(np.uint8))"
   ]
  },
  {
   "cell_type": "code",
   "execution_count": 11,
   "metadata": {
    "colab": {
     "base_uri": "https://localhost:8080/"
    },
    "id": "dPQYW_KqWDdZ",
    "outputId": "9f56b26d-77f5-428f-f0b8-c8f938248607"
   },
   "outputs": [
    {
     "name": "stdout",
     "output_type": "stream",
     "text": [
      "<class 'PIL.Image.Image'>\n"
     ]
    }
   ],
   "source": [
    "print(type(im))"
   ]
  },
  {
   "cell_type": "code",
   "execution_count": 12,
   "metadata": {
    "colab": {
     "base_uri": "https://localhost:8080/",
     "height": 241
    },
    "id": "-6_ZJO5EW5g6",
    "outputId": "0eb828f6-c799-44ab-fec7-353bb79fd148"
   },
   "outputs": [
    {
     "data": {
      "image/png": "[encoded data removed]",
      "text/plain": [
       "<PIL.Image.Image image mode=RGB size=224x224 at 0x7F0CF0211C90>"
      ]
     },
     "metadata": {},
     "output_type": "display_data"
    }
   ],
   "source": [
    "display(im)"
   ]
  },
  {
   "cell_type": "markdown",
   "metadata": {
    "id": "2FT2ae7lGeuY"
   },
   "source": [
    "## **RESNET**"
   ]
  },
  {
   "cell_type": "code",
   "execution_count": 13,
   "metadata": {
    "colab": {
     "base_uri": "https://localhost:8080/"
    },
    "id": "HbGULHfbX7rw",
    "outputId": "527e4e8a-cc7c-4880-8d57-851f7f437749"
   },
   "outputs": [
    {
     "name": "stdout",
     "output_type": "stream",
     "text": [
      "Downloading data from https://storage.googleapis.com/tensorflow/keras-applications/resnet/resnet50_weights_tf_dim_ordering_tf_kernels_notop.h5\n",
      "94773248/94765736 [==============================] - 3s 0us/step\n",
      "94781440/94765736 [==============================] - 3s 0us/step\n"
     ]
    }
   ],
   "source": [
    "from tensorflow.keras.applications.resnet50 import ResNet50\n",
    "from tensorflow.keras.preprocessing import image\n",
    "from tensorflow.keras.applications.resnet50 import preprocess_input, decode_predictions\n",
    "\n",
    "# create input with shape same as image shapes\n",
    "image_input = Input(shape=(224, 224, 3))\n",
    "# resnet model definiton with imagenet weights and output discarded\n",
    "rn50_model = ResNet50(weights='imagenet', include_top=False, input_tensor=image_input)"
   ]
  },
  {
   "cell_type": "code",
   "execution_count": 14,
   "metadata": {
    "id": "fGaDBanpY0ox"
   },
   "outputs": [],
   "source": [
    "# layer freezing for not lose imagenet weights\n",
    "for layer in rn50_model.layers:\n",
    "  layer.trainable=False"
   ]
  },
  {
   "cell_type": "code",
   "execution_count": 15,
   "metadata": {
    "id": "z1LUuHeoY4jN"
   },
   "outputs": [],
   "source": [
    "# additional layers for resnet + custom combination\n",
    "flat1 = Flatten()(rn50_model.layers[-1].output)\n",
    "x = Dense(1256, activation='relu')(flat1)\n",
    "x = Dense(128, activation='relu', name='fc1')(x)\n",
    "x = Dense(64, activation='relu', name='fc2')(x)\n",
    "output = Dense(4, activation='softmax')(x)"
   ]
  },
  {
   "cell_type": "code",
   "execution_count": 16,
   "metadata": {
    "id": "-8R01whIa793"
   },
   "outputs": [],
   "source": [
    "# resnet50 + custom layers to create custom model\n",
    "custom_model = Model(image_input, output)"
   ]
  },
  {
   "cell_type": "code",
   "execution_count": 17,
   "metadata": {
    "id": "QdyFsR32eFWo"
   },
   "outputs": [],
   "source": [
    "custom_model.compile(loss = categorical_crossentropy, optimizer='adam', metrics=['accuracy'])"
   ]
  },
  {
   "cell_type": "code",
   "execution_count": 18,
   "metadata": {
    "id": "fy-qVzkLeUjb"
   },
   "outputs": [],
   "source": [
    "import time"
   ]
  },
  {
   "cell_type": "code",
   "execution_count": 27,
   "metadata": {
    "colab": {
     "base_uri": "https://localhost:8080/"
    },
    "id": "yYepLgeKeO4E",
    "outputId": "bd55e6a0-5606-4238-f2b1-6d3019920394"
   },
   "outputs": [
    {
     "name": "stdout",
     "output_type": "stream",
     "text": [
      "Epoch 1/16\n",
      "29/29 [==============================] - 10s 352ms/step - loss: 0.1541 - accuracy: 0.9678 - val_loss: 2.9796 - val_accuracy: 0.8230\n",
      "Epoch 2/16\n",
      "29/29 [==============================] - 10s 352ms/step - loss: 0.2888 - accuracy: 0.9689 - val_loss: 2.5098 - val_accuracy: 0.7212\n",
      "Epoch 3/16\n",
      "29/29 [==============================] - 10s 350ms/step - loss: 0.0981 - accuracy: 0.9833 - val_loss: 1.8045 - val_accuracy: 0.7965\n",
      "Epoch 4/16\n",
      "29/29 [==============================] - 10s 352ms/step - loss: 0.1728 - accuracy: 0.9756 - val_loss: 2.1204 - val_accuracy: 0.7611\n",
      "Epoch 5/16\n",
      "29/29 [==============================] - 10s 350ms/step - loss: 0.0915 - accuracy: 0.9833 - val_loss: 1.6505 - val_accuracy: 0.8097\n",
      "Epoch 6/16\n",
      "29/29 [==============================] - 10s 353ms/step - loss: 0.0407 - accuracy: 0.9911 - val_loss: 2.4238 - val_accuracy: 0.7965\n",
      "Epoch 7/16\n",
      "29/29 [==============================] - 11s 387ms/step - loss: 0.0794 - accuracy: 0.9900 - val_loss: 1.3351 - val_accuracy: 0.7655\n",
      "Epoch 8/16\n",
      "29/29 [==============================] - 10s 351ms/step - loss: 0.0326 - accuracy: 0.9922 - val_loss: 1.6199 - val_accuracy: 0.8053\n",
      "Epoch 9/16\n",
      "29/29 [==============================] - 10s 351ms/step - loss: 0.0199 - accuracy: 0.9944 - val_loss: 1.7438 - val_accuracy: 0.8053\n",
      "Epoch 10/16\n",
      "29/29 [==============================] - 10s 352ms/step - loss: 0.0209 - accuracy: 0.9978 - val_loss: 1.6157 - val_accuracy: 0.8142\n",
      "Epoch 11/16\n",
      "29/29 [==============================] - 10s 350ms/step - loss: 0.0168 - accuracy: 0.9944 - val_loss: 1.6088 - val_accuracy: 0.8053\n",
      "Epoch 12/16\n",
      "29/29 [==============================] - 10s 351ms/step - loss: 0.0113 - accuracy: 0.9967 - val_loss: 1.5064 - val_accuracy: 0.8009\n",
      "Epoch 13/16\n",
      "29/29 [==============================] - 10s 350ms/step - loss: 0.0093 - accuracy: 0.9967 - val_loss: 1.5628 - val_accuracy: 0.8009\n",
      "Epoch 14/16\n",
      "29/29 [==============================] - 10s 352ms/step - loss: 0.0050 - accuracy: 0.9956 - val_loss: 1.5398 - val_accuracy: 0.8097\n",
      "Epoch 15/16\n",
      "29/29 [==============================] - 10s 351ms/step - loss: 0.0046 - accuracy: 0.9978 - val_loss: 1.6386 - val_accuracy: 0.7876\n",
      "Epoch 16/16\n",
      "29/29 [==============================] - 10s 351ms/step - loss: 0.0124 - accuracy: 0.9967 - val_loss: 1.4903 - val_accuracy: 0.8097\n",
      "Training time: -202.17037296295166\n",
      "23/23 [==============================] - 2s 100ms/step - loss: 1.4903 - accuracy: 0.8097\n",
      "[INFO] loss=1.4903, accuracy: 80.9735%\n"
     ]
    }
   ],
   "source": [
    "t=time.time()\n",
    "#\tt = now()\n",
    "hist = custom_model.fit(X_train, y_train, batch_size=32, epochs=16, verbose=1, validation_data=(X_test, y_test))\n",
    "print('Training time: %s' % (t - time.time()))\n",
    "(loss, accuracy) = custom_model.evaluate(X_test, y_test, batch_size=10, verbose=1)\n",
    "\n",
    "print(\"[INFO] loss={:.4f}, accuracy: {:.4f}%\".format(loss,accuracy * 100))"
   ]
  },
  {
   "cell_type": "code",
   "execution_count": 29,
   "metadata": {
    "colab": {
     "base_uri": "https://localhost:8080/",
     "height": 406
    },
    "id": "rAYT-hsSeYD9",
    "outputId": "6ccd187c-f8b5-4570-8b63-fda7805de84d"
   },
   "outputs": [
    {
     "data": {
      "image/png": "[encoded data removed]",
      "text/plain": [
       "<Figure size 560x400 with 1 Axes>"
      ]
     },
     "metadata": {},
     "output_type": "display_data"
    }
   ],
   "source": [
    "import matplotlib.pyplot as plt\n",
    "# visualizing losses and accuracy\n",
    "\n",
    "def vis(hist):\n",
    "  train_loss=hist.history['loss']\n",
    "  val_loss=hist.history['val_loss']\n",
    "  train_acc=hist.history['accuracy']\n",
    "  val_acc=hist.history['val_accuracy']\n",
    "  xc=range(16)\n",
    "\n",
    "  plt.figure(1,figsize=(7,5))\n",
    "  plt.plot(xc,train_acc)\n",
    "  plt.plot(xc,val_acc)\n",
    "  plt.xlabel('num of Epochs')\n",
    "  plt.ylabel('loss')\n",
    "  plt.title('train_loss vs val_loss')\n",
    "  plt.grid(True)\n",
    "  plt.legend(['train','val'])\n",
    "  #print plt.style.available # use bmh, classic,ggplot for big pictures\n",
    "  plt.style.use(['classic'])\n",
    "\n",
    "vis(hist)"
   ]
  },
  {
   "cell_type": "markdown",
   "metadata": {
    "id": "EFonM1ac7IP6"
   },
   "source": [
    "### **FINE TUNING**:"
   ]
  },
  {
   "cell_type": "code",
   "execution_count": 30,
   "metadata": {
    "colab": {
     "base_uri": "https://localhost:8080/"
    },
    "id": "ocC95hC66gvd",
    "outputId": "d2c89d19-1487-4a2b-ef37-7d95706c43e5"
   },
   "outputs": [
    {
     "name": "stdout",
     "output_type": "stream",
     "text": [
      "input_1\n",
      "conv1_pad\n",
      "conv1_conv\n",
      "conv1_bn\n",
      "conv1_relu\n",
      "pool1_pad\n",
      "pool1_pool\n",
      "conv2_block1_1_conv\n",
      "conv2_block1_1_bn\n",
      "conv2_block1_1_relu\n",
      "conv2_block1_2_conv\n",
      "conv2_block1_2_bn\n",
      "conv2_block1_2_relu\n",
      "conv2_block1_0_conv\n",
      "conv2_block1_3_conv\n",
      "conv2_block1_0_bn\n",
      "conv2_block1_3_bn\n",
      "conv2_block1_add\n",
      "conv2_block1_out\n",
      "conv2_block2_1_conv\n",
      "conv2_block2_1_bn\n",
      "conv2_block2_1_relu\n",
      "conv2_block2_2_conv\n",
      "conv2_block2_2_bn\n",
      "conv2_block2_2_relu\n",
      "conv2_block2_3_conv\n",
      "conv2_block2_3_bn\n",
      "conv2_block2_add\n",
      "conv2_block2_out\n",
      "conv2_block3_1_conv\n",
      "conv2_block3_1_bn\n",
      "conv2_block3_1_relu\n",
      "conv2_block3_2_conv\n",
      "conv2_block3_2_bn\n",
      "conv2_block3_2_relu\n",
      "conv2_block3_3_conv\n",
      "conv2_block3_3_bn\n",
      "conv2_block3_add\n",
      "conv2_block3_out\n",
      "conv3_block1_1_conv\n",
      "conv3_block1_1_bn\n",
      "conv3_block1_1_relu\n",
      "conv3_block1_2_conv\n",
      "conv3_block1_2_bn\n",
      "conv3_block1_2_relu\n",
      "conv3_block1_0_conv\n",
      "conv3_block1_3_conv\n",
      "conv3_block1_0_bn\n",
      "conv3_block1_3_bn\n",
      "conv3_block1_add\n",
      "conv3_block1_out\n",
      "conv3_block2_1_conv\n",
      "conv3_block2_1_bn\n",
      "conv3_block2_1_relu\n",
      "conv3_block2_2_conv\n",
      "conv3_block2_2_bn\n",
      "conv3_block2_2_relu\n",
      "conv3_block2_3_conv\n",
      "conv3_block2_3_bn\n",
      "conv3_block2_add\n",
      "conv3_block2_out\n",
      "conv3_block3_1_conv\n",
      "conv3_block3_1_bn\n",
      "conv3_block3_1_relu\n",
      "conv3_block3_2_conv\n",
      "conv3_block3_2_bn\n",
      "conv3_block3_2_relu\n",
      "conv3_block3_3_conv\n",
      "conv3_block3_3_bn\n",
      "conv3_block3_add\n",
      "conv3_block3_out\n",
      "conv3_block4_1_conv\n",
      "conv3_block4_1_bn\n",
      "conv3_block4_1_relu\n",
      "conv3_block4_2_conv\n",
      "conv3_block4_2_bn\n",
      "conv3_block4_2_relu\n",
      "conv3_block4_3_conv\n",
      "conv3_block4_3_bn\n",
      "conv3_block4_add\n",
      "conv3_block4_out\n",
      "conv4_block1_1_conv\n",
      "conv4_block1_1_bn\n",
      "conv4_block1_1_relu\n",
      "conv4_block1_2_conv\n",
      "conv4_block1_2_bn\n",
      "conv4_block1_2_relu\n",
      "conv4_block1_0_conv\n",
      "conv4_block1_3_conv\n",
      "conv4_block1_0_bn\n",
      "conv4_block1_3_bn\n",
      "conv4_block1_add\n",
      "conv4_block1_out\n",
      "conv4_block2_1_conv\n",
      "conv4_block2_1_bn\n",
      "conv4_block2_1_relu\n",
      "conv4_block2_2_conv\n",
      "conv4_block2_2_bn\n",
      "conv4_block2_2_relu\n",
      "conv4_block2_3_conv\n",
      "conv4_block2_3_bn\n",
      "conv4_block2_add\n",
      "conv4_block2_out\n",
      "conv4_block3_1_conv\n",
      "conv4_block3_1_bn\n",
      "conv4_block3_1_relu\n",
      "conv4_block3_2_conv\n",
      "conv4_block3_2_bn\n",
      "conv4_block3_2_relu\n",
      "conv4_block3_3_conv\n",
      "conv4_block3_3_bn\n",
      "conv4_block3_add\n",
      "conv4_block3_out\n",
      "conv4_block4_1_conv\n",
      "conv4_block4_1_bn\n",
      "conv4_block4_1_relu\n",
      "conv4_block4_2_conv\n",
      "conv4_block4_2_bn\n",
      "conv4_block4_2_relu\n",
      "conv4_block4_3_conv\n",
      "conv4_block4_3_bn\n",
      "conv4_block4_add\n",
      "conv4_block4_out\n",
      "conv4_block5_1_conv\n",
      "conv4_block5_1_bn\n",
      "conv4_block5_1_relu\n",
      "conv4_block5_2_conv\n",
      "conv4_block5_2_bn\n",
      "conv4_block5_2_relu\n",
      "conv4_block5_3_conv\n",
      "conv4_block5_3_bn\n",
      "conv4_block5_add\n",
      "conv4_block5_out\n",
      "conv4_block6_1_conv\n",
      "conv4_block6_1_bn\n",
      "conv4_block6_1_relu\n",
      "conv4_block6_2_conv\n",
      "conv4_block6_2_bn\n",
      "conv4_block6_2_relu\n",
      "conv4_block6_3_conv\n",
      "conv4_block6_3_bn\n",
      "conv4_block6_add\n",
      "conv4_block6_out\n",
      "conv5_block1_1_conv\n",
      "conv5_block1_1_bn\n",
      "conv5_block1_1_relu\n",
      "conv5_block1_2_conv\n",
      "conv5_block1_2_bn\n",
      "conv5_block1_2_relu\n",
      "conv5_block1_0_conv\n",
      "conv5_block1_3_conv\n",
      "conv5_block1_0_bn\n",
      "conv5_block1_3_bn\n",
      "conv5_block1_add\n",
      "conv5_block1_out\n",
      "conv5_block2_1_conv\n",
      "conv5_block2_1_bn\n",
      "conv5_block2_1_relu\n",
      "conv5_block2_2_conv\n",
      "conv5_block2_2_bn\n",
      "conv5_block2_2_relu\n",
      "conv5_block2_3_conv\n",
      "conv5_block2_3_bn\n",
      "conv5_block2_add\n",
      "conv5_block2_out\n",
      "conv5_block3_1_conv\n",
      "conv5_block3_1_bn\n",
      "conv5_block3_1_relu\n",
      "conv5_block3_2_conv\n",
      "conv5_block3_2_bn\n",
      "conv5_block3_2_relu\n",
      "conv5_block3_3_conv\n",
      "conv5_block3_3_bn\n",
      "conv5_block3_add\n",
      "conv5_block3_out\n",
      "flatten\n",
      "dense\n",
      "fc1\n",
      "fc2\n",
      "dense_1\n",
      "180\n"
     ]
    }
   ],
   "source": [
    "# checking layers \n",
    "for layer in custom_model.layers:\n",
    "  print(layer.name)\n",
    "\n",
    "print(len(custom_model.layers))"
   ]
  },
  {
   "cell_type": "code",
   "execution_count": 31,
   "metadata": {
    "id": "cwv03z1o7SyT"
   },
   "outputs": [],
   "source": [
    "# we make specific layers trainable for tuning \n",
    "for layer in custom_model.layers[155:165]:\n",
    "  layer.trainable = True"
   ]
  },
  {
   "cell_type": "code",
   "execution_count": 32,
   "metadata": {
    "id": "hQARz1HG8a4k"
   },
   "outputs": [],
   "source": [
    "custom_model.compile(loss = categorical_crossentropy, optimizer='adam', metrics=['accuracy'])"
   ]
  },
  {
   "cell_type": "code",
   "execution_count": 34,
   "metadata": {
    "colab": {
     "base_uri": "https://localhost:8080/"
    },
    "id": "fb_yONbD9Yox",
    "outputId": "bcd2ef79-2c12-4044-e950-86134f63795b"
   },
   "outputs": [
    {
     "name": "stdout",
     "output_type": "stream",
     "text": [
      "Epoch 1/16\n",
      "29/29 [==============================] - 10s 356ms/step - loss: 0.1066 - accuracy: 0.9822 - val_loss: 4.1029 - val_accuracy: 0.6947\n",
      "Epoch 2/16\n",
      "29/29 [==============================] - 10s 349ms/step - loss: 0.0700 - accuracy: 0.9867 - val_loss: 4.1548 - val_accuracy: 0.7301\n",
      "Epoch 3/16\n",
      "29/29 [==============================] - 10s 352ms/step - loss: 0.3245 - accuracy: 0.9822 - val_loss: 6.9261 - val_accuracy: 0.7434\n",
      "Epoch 4/16\n",
      "29/29 [==============================] - 10s 350ms/step - loss: 0.2282 - accuracy: 0.9867 - val_loss: 2.9924 - val_accuracy: 0.8186\n",
      "Epoch 5/16\n",
      "29/29 [==============================] - 10s 351ms/step - loss: 0.0647 - accuracy: 0.9878 - val_loss: 3.7106 - val_accuracy: 0.6814\n",
      "Epoch 6/16\n",
      "29/29 [==============================] - 10s 351ms/step - loss: 0.1485 - accuracy: 0.9778 - val_loss: 2.1509 - val_accuracy: 0.7965\n",
      "Epoch 7/16\n",
      "29/29 [==============================] - 10s 350ms/step - loss: 0.0186 - accuracy: 0.9900 - val_loss: 2.4771 - val_accuracy: 0.8053\n",
      "Epoch 8/16\n",
      "29/29 [==============================] - 10s 349ms/step - loss: 0.0327 - accuracy: 0.9967 - val_loss: 2.4350 - val_accuracy: 0.8230\n",
      "Epoch 9/16\n",
      "29/29 [==============================] - 10s 351ms/step - loss: 0.0121 - accuracy: 0.9978 - val_loss: 2.6713 - val_accuracy: 0.8186\n",
      "Epoch 10/16\n",
      "29/29 [==============================] - 10s 352ms/step - loss: 0.0099 - accuracy: 0.9978 - val_loss: 2.5981 - val_accuracy: 0.8274\n",
      "Epoch 11/16\n",
      "29/29 [==============================] - 10s 350ms/step - loss: 0.0188 - accuracy: 0.9978 - val_loss: 3.1947 - val_accuracy: 0.8142\n",
      "Epoch 12/16\n",
      "29/29 [==============================] - 11s 387ms/step - loss: 0.0082 - accuracy: 0.9978 - val_loss: 2.8764 - val_accuracy: 0.8274\n",
      "Epoch 13/16\n",
      "29/29 [==============================] - 10s 350ms/step - loss: 0.0040 - accuracy: 0.9967 - val_loss: 2.8894 - val_accuracy: 0.8274\n",
      "Epoch 14/16\n",
      "29/29 [==============================] - 10s 349ms/step - loss: 0.0039 - accuracy: 0.9978 - val_loss: 2.9139 - val_accuracy: 0.8274\n",
      "Epoch 15/16\n",
      "29/29 [==============================] - 10s 351ms/step - loss: 0.0065 - accuracy: 0.9967 - val_loss: 2.9352 - val_accuracy: 0.8274\n",
      "Epoch 16/16\n",
      "29/29 [==============================] - 10s 350ms/step - loss: 0.0034 - accuracy: 0.9978 - val_loss: 3.0067 - val_accuracy: 0.8186\n",
      "Training time: -202.69423913955688\n",
      "23/23 [==============================] - 2s 99ms/step - loss: 3.0067 - accuracy: 0.8186\n",
      "[INFO] loss=3.0067, accuracy: 81.8584%\n"
     ]
    }
   ],
   "source": [
    "t=time.time()\n",
    "#\tt = now()\n",
    "hist = custom_model.fit(X_train, y_train, batch_size=32, epochs=16, verbose=1, validation_data=(X_test, y_test))\n",
    "print('Training time: %s' % (t - time.time()))\n",
    "(loss, accuracy) = custom_model.evaluate(X_test, y_test, batch_size=10, verbose=1)\n",
    "\n",
    "print(\"[INFO] loss={:.4f}, accuracy: {:.4f}%\".format(loss,accuracy * 100))"
   ]
  },
  {
   "cell_type": "code",
   "execution_count": 35,
   "metadata": {
    "colab": {
     "base_uri": "https://localhost:8080/",
     "height": 406
    },
    "id": "tvOdAEFu9chH",
    "outputId": "9bc7f2a9-46bb-4acb-dfbd-bfd050619bc9"
   },
   "outputs": [
    {
     "data": {
      "image/png": "[encoded data removed]",
      "text/plain": [
       "<Figure size 560x400 with 1 Axes>"
      ]
     },
     "metadata": {},
     "output_type": "display_data"
    }
   ],
   "source": [
    "vis(hist)"
   ]
  },
  {
   "cell_type": "markdown",
   "metadata": {
    "id": "yVlEJvTVHJxl"
   },
   "source": [
    "## **INCEPTIONV3**"
   ]
  },
  {
   "cell_type": "code",
   "execution_count": 36,
   "metadata": {
    "id": "ueBhdwyBHmf3"
   },
   "outputs": [],
   "source": [
    "from tensorflow.keras.applications.inception_v3 import InceptionV3\n",
    "from tensorflow.keras.preprocessing import image\n",
    "from tensorflow.keras.models import Model\n",
    "from tensorflow.keras.layers import Dense, GlobalAveragePooling2D"
   ]
  },
  {
   "cell_type": "code",
   "execution_count": 37,
   "metadata": {
    "colab": {
     "base_uri": "https://localhost:8080/"
    },
    "id": "E356vGo7Gnel",
    "outputId": "28675b2d-8a5b-4dfd-8fb4-24d1282f10b7"
   },
   "outputs": [
    {
     "name": "stdout",
     "output_type": "stream",
     "text": [
      "Downloading data from https://storage.googleapis.com/tensorflow/keras-applications/inception_v3/inception_v3_weights_tf_dim_ordering_tf_kernels_notop.h5\n",
      "87916544/87910968 [==============================] - 1s 0us/step\n",
      "87924736/87910968 [==============================] - 1s 0us/step\n"
     ]
    }
   ],
   "source": [
    "# create the base pre-trained model\n",
    "image_input = Input(shape=(224, 224, 3))\n",
    "inception_model = InceptionV3(weights='imagenet', include_top=False, input_tensor=image_input)"
   ]
  },
  {
   "cell_type": "code",
   "execution_count": 38,
   "metadata": {
    "id": "0iJxQ06HI7x0"
   },
   "outputs": [],
   "source": [
    "# train only the top layers (which were randomly initialized)\n",
    "# freeze all InceptionV3 layers\n",
    "for layer in inception_model.layers:\n",
    "    layer.trainable = False"
   ]
  },
  {
   "cell_type": "code",
   "execution_count": 39,
   "metadata": {
    "id": "926sEpoGHt1q"
   },
   "outputs": [],
   "source": [
    "# add a global spatial average pooling layer\n",
    "x = inception_model.output\n",
    "x = GlobalAveragePooling2D()(x)\n",
    "# let's add a fully-connected layer\n",
    "x = Dense(1024, activation='relu')(x)\n",
    "# we have 4 classes\n",
    "predictions = Dense(4, activation='softmax')(x)\n",
    "\n",
    "# custom model = inceptionv3 + custom layers\n",
    "custom_model2 = Model(inputs=inception_model.input, outputs=predictions)"
   ]
  },
  {
   "cell_type": "code",
   "execution_count": 40,
   "metadata": {
    "id": "hgiFbjVbI9LD"
   },
   "outputs": [],
   "source": [
    "# compiling the model with categorical crossentropy loss and adam optimizer\n",
    "custom_model2.compile(loss = categorical_crossentropy, optimizer='adam', metrics=['accuracy'])"
   ]
  },
  {
   "cell_type": "code",
   "execution_count": 44,
   "metadata": {
    "colab": {
     "base_uri": "https://localhost:8080/"
    },
    "id": "CwipCjr7JJK1",
    "outputId": "27da44d3-c375-439a-9812-67cd41ddf736"
   },
   "outputs": [
    {
     "name": "stdout",
     "output_type": "stream",
     "text": [
      "Epoch 1/16\n",
      "29/29 [==============================] - 6s 210ms/step - loss: 0.8999 - accuracy: 0.8333 - val_loss: 5.6547 - val_accuracy: 0.4823\n",
      "Epoch 2/16\n",
      "29/29 [==============================] - 6s 209ms/step - loss: 1.3479 - accuracy: 0.8089 - val_loss: 3.2223 - val_accuracy: 0.6150\n",
      "Epoch 3/16\n",
      "29/29 [==============================] - 6s 212ms/step - loss: 0.9666 - accuracy: 0.8156 - val_loss: 3.3969 - val_accuracy: 0.6858\n",
      "Epoch 4/16\n",
      "29/29 [==============================] - 6s 208ms/step - loss: 0.7068 - accuracy: 0.8633 - val_loss: 4.6036 - val_accuracy: 0.5664\n",
      "Epoch 5/16\n",
      "29/29 [==============================] - 6s 209ms/step - loss: 2.1967 - accuracy: 0.7489 - val_loss: 3.0202 - val_accuracy: 0.6283\n",
      "Epoch 6/16\n",
      "29/29 [==============================] - 6s 207ms/step - loss: 1.3751 - accuracy: 0.7767 - val_loss: 7.0551 - val_accuracy: 0.6504\n",
      "Epoch 7/16\n",
      "29/29 [==============================] - 6s 208ms/step - loss: 4.0032 - accuracy: 0.7100 - val_loss: 4.8568 - val_accuracy: 0.5929\n",
      "Epoch 8/16\n",
      "29/29 [==============================] - 6s 208ms/step - loss: 1.4276 - accuracy: 0.7778 - val_loss: 3.3696 - val_accuracy: 0.6726\n",
      "Epoch 9/16\n",
      "29/29 [==============================] - 6s 208ms/step - loss: 0.8713 - accuracy: 0.8400 - val_loss: 4.6779 - val_accuracy: 0.4469\n",
      "Epoch 10/16\n",
      "29/29 [==============================] - 6s 207ms/step - loss: 0.7163 - accuracy: 0.8489 - val_loss: 2.5312 - val_accuracy: 0.6681\n",
      "Epoch 11/16\n",
      "29/29 [==============================] - 6s 212ms/step - loss: 0.4911 - accuracy: 0.8667 - val_loss: 3.3186 - val_accuracy: 0.6150\n",
      "Epoch 12/16\n",
      "29/29 [==============================] - 6s 207ms/step - loss: 0.6156 - accuracy: 0.8756 - val_loss: 3.6330 - val_accuracy: 0.6504\n",
      "Epoch 13/16\n",
      "29/29 [==============================] - 6s 209ms/step - loss: 1.1652 - accuracy: 0.8111 - val_loss: 2.4822 - val_accuracy: 0.6062\n",
      "Epoch 14/16\n",
      "29/29 [==============================] - 6s 213ms/step - loss: 1.2673 - accuracy: 0.7722 - val_loss: 3.1238 - val_accuracy: 0.5885\n",
      "Epoch 15/16\n",
      "29/29 [==============================] - 6s 208ms/step - loss: 0.6363 - accuracy: 0.8500 - val_loss: 2.2554 - val_accuracy: 0.6681\n",
      "Epoch 16/16\n",
      "29/29 [==============================] - 6s 208ms/step - loss: 0.2524 - accuracy: 0.9211 - val_loss: 2.0378 - val_accuracy: 0.6283\n",
      "Training time: -142.4342143535614\n",
      "23/23 [==============================] - 2s 83ms/step - loss: 2.0378 - accuracy: 0.6283\n",
      "[INFO] loss=2.0378, accuracy: 62.8319%\n"
     ]
    }
   ],
   "source": [
    "t=time.time()\n",
    "hist = custom_model2.fit(X_train, y_train, batch_size=32, epochs=16, verbose=1, validation_data=(X_test, y_test))\n",
    "print('Training time: %s' % (t - time.time()))\n",
    "(loss, accuracy) = custom_model2.evaluate(X_test, y_test, batch_size=10, verbose=1)\n",
    "\n",
    "print(\"[INFO] loss={:.4f}, accuracy: {:.4f}%\".format(loss,accuracy * 100))"
   ]
  },
  {
   "cell_type": "code",
   "execution_count": 45,
   "metadata": {
    "colab": {
     "base_uri": "https://localhost:8080/",
     "height": 406
    },
    "id": "Fy5TBOiSJNue",
    "outputId": "b1769f23-2758-4d4e-f1e5-3bb1a65c04ec"
   },
   "outputs": [
    {
     "data": {
      "image/png": "[encoded data removed]",
      "text/plain": [
       "<Figure size 560x400 with 1 Axes>"
      ]
     },
     "metadata": {},
     "output_type": "display_data"
    }
   ],
   "source": [
    "vis(hist)"
   ]
  },
  {
   "cell_type": "markdown",
   "metadata": {
    "id": "2Bq2JQ73SbOE"
   },
   "source": [
    "# Fine Tuning for **InceptionV3**"
   ]
  },
  {
   "cell_type": "code",
   "execution_count": 46,
   "metadata": {
    "colab": {
     "base_uri": "https://localhost:8080/"
    },
    "id": "9DO9taQrSUPg",
    "outputId": "8538836f-7346-4c97-b211-c00571675808"
   },
   "outputs": [
    {
     "name": "stdout",
     "output_type": "stream",
     "text": [
      "input_2\n",
      "conv2d\n",
      "batch_normalization\n",
      "activation\n",
      "conv2d_1\n",
      "batch_normalization_1\n",
      "activation_1\n",
      "conv2d_2\n",
      "batch_normalization_2\n",
      "activation_2\n",
      "max_pooling2d\n",
      "conv2d_3\n",
      "batch_normalization_3\n",
      "activation_3\n",
      "conv2d_4\n",
      "batch_normalization_4\n",
      "activation_4\n",
      "max_pooling2d_1\n",
      "conv2d_8\n",
      "batch_normalization_8\n",
      "activation_8\n",
      "conv2d_6\n",
      "conv2d_9\n",
      "batch_normalization_6\n",
      "batch_normalization_9\n",
      "activation_6\n",
      "activation_9\n",
      "average_pooling2d\n",
      "conv2d_5\n",
      "conv2d_7\n",
      "conv2d_10\n",
      "conv2d_11\n",
      "batch_normalization_5\n",
      "batch_normalization_7\n",
      "batch_normalization_10\n",
      "batch_normalization_11\n",
      "activation_5\n",
      "activation_7\n",
      "activation_10\n",
      "activation_11\n",
      "mixed0\n",
      "conv2d_15\n",
      "batch_normalization_15\n",
      "activation_15\n",
      "conv2d_13\n",
      "conv2d_16\n",
      "batch_normalization_13\n",
      "batch_normalization_16\n",
      "activation_13\n",
      "activation_16\n",
      "average_pooling2d_1\n",
      "conv2d_12\n",
      "conv2d_14\n",
      "conv2d_17\n",
      "conv2d_18\n",
      "batch_normalization_12\n",
      "batch_normalization_14\n",
      "batch_normalization_17\n",
      "batch_normalization_18\n",
      "activation_12\n",
      "activation_14\n",
      "activation_17\n",
      "activation_18\n",
      "mixed1\n",
      "conv2d_22\n",
      "batch_normalization_22\n",
      "activation_22\n",
      "conv2d_20\n",
      "conv2d_23\n",
      "batch_normalization_20\n",
      "batch_normalization_23\n",
      "activation_20\n",
      "activation_23\n",
      "average_pooling2d_2\n",
      "conv2d_19\n",
      "conv2d_21\n",
      "conv2d_24\n",
      "conv2d_25\n",
      "batch_normalization_19\n",
      "batch_normalization_21\n",
      "batch_normalization_24\n",
      "batch_normalization_25\n",
      "activation_19\n",
      "activation_21\n",
      "activation_24\n",
      "activation_25\n",
      "mixed2\n",
      "conv2d_27\n",
      "batch_normalization_27\n",
      "activation_27\n",
      "conv2d_28\n",
      "batch_normalization_28\n",
      "activation_28\n",
      "conv2d_26\n",
      "conv2d_29\n",
      "batch_normalization_26\n",
      "batch_normalization_29\n",
      "activation_26\n",
      "activation_29\n",
      "max_pooling2d_2\n",
      "mixed3\n",
      "conv2d_34\n",
      "batch_normalization_34\n",
      "activation_34\n",
      "conv2d_35\n",
      "batch_normalization_35\n",
      "activation_35\n",
      "conv2d_31\n",
      "conv2d_36\n",
      "batch_normalization_31\n",
      "batch_normalization_36\n",
      "activation_31\n",
      "activation_36\n",
      "conv2d_32\n",
      "conv2d_37\n",
      "batch_normalization_32\n",
      "batch_normalization_37\n",
      "activation_32\n",
      "activation_37\n",
      "average_pooling2d_3\n",
      "conv2d_30\n",
      "conv2d_33\n",
      "conv2d_38\n",
      "conv2d_39\n",
      "batch_normalization_30\n",
      "batch_normalization_33\n",
      "batch_normalization_38\n",
      "batch_normalization_39\n",
      "activation_30\n",
      "activation_33\n",
      "activation_38\n",
      "activation_39\n",
      "mixed4\n",
      "conv2d_44\n",
      "batch_normalization_44\n",
      "activation_44\n",
      "conv2d_45\n",
      "batch_normalization_45\n",
      "activation_45\n",
      "conv2d_41\n",
      "conv2d_46\n",
      "batch_normalization_41\n",
      "batch_normalization_46\n",
      "activation_41\n",
      "activation_46\n",
      "conv2d_42\n",
      "conv2d_47\n",
      "batch_normalization_42\n",
      "batch_normalization_47\n",
      "activation_42\n",
      "activation_47\n",
      "average_pooling2d_4\n",
      "conv2d_40\n",
      "conv2d_43\n",
      "conv2d_48\n",
      "conv2d_49\n",
      "batch_normalization_40\n",
      "batch_normalization_43\n",
      "batch_normalization_48\n",
      "batch_normalization_49\n",
      "activation_40\n",
      "activation_43\n",
      "activation_48\n",
      "activation_49\n",
      "mixed5\n",
      "conv2d_54\n",
      "batch_normalization_54\n",
      "activation_54\n",
      "conv2d_55\n",
      "batch_normalization_55\n",
      "activation_55\n",
      "conv2d_51\n",
      "conv2d_56\n",
      "batch_normalization_51\n",
      "batch_normalization_56\n",
      "activation_51\n",
      "activation_56\n",
      "conv2d_52\n",
      "conv2d_57\n",
      "batch_normalization_52\n",
      "batch_normalization_57\n",
      "activation_52\n",
      "activation_57\n",
      "average_pooling2d_5\n",
      "conv2d_50\n",
      "conv2d_53\n",
      "conv2d_58\n",
      "conv2d_59\n",
      "batch_normalization_50\n",
      "batch_normalization_53\n",
      "batch_normalization_58\n",
      "batch_normalization_59\n",
      "activation_50\n",
      "activation_53\n",
      "activation_58\n",
      "activation_59\n",
      "mixed6\n",
      "conv2d_64\n",
      "batch_normalization_64\n",
      "activation_64\n",
      "conv2d_65\n",
      "batch_normalization_65\n",
      "activation_65\n",
      "conv2d_61\n",
      "conv2d_66\n",
      "batch_normalization_61\n",
      "batch_normalization_66\n",
      "activation_61\n",
      "activation_66\n",
      "conv2d_62\n",
      "conv2d_67\n",
      "batch_normalization_62\n",
      "batch_normalization_67\n",
      "activation_62\n",
      "activation_67\n",
      "average_pooling2d_6\n",
      "conv2d_60\n",
      "conv2d_63\n",
      "conv2d_68\n",
      "conv2d_69\n",
      "batch_normalization_60\n",
      "batch_normalization_63\n",
      "batch_normalization_68\n",
      "batch_normalization_69\n",
      "activation_60\n",
      "activation_63\n",
      "activation_68\n",
      "activation_69\n",
      "mixed7\n",
      "conv2d_72\n",
      "batch_normalization_72\n",
      "activation_72\n",
      "conv2d_73\n",
      "batch_normalization_73\n",
      "activation_73\n",
      "conv2d_70\n",
      "conv2d_74\n",
      "batch_normalization_70\n",
      "batch_normalization_74\n",
      "activation_70\n",
      "activation_74\n",
      "conv2d_71\n",
      "conv2d_75\n",
      "batch_normalization_71\n",
      "batch_normalization_75\n",
      "activation_71\n",
      "activation_75\n",
      "max_pooling2d_3\n",
      "mixed8\n",
      "conv2d_80\n",
      "batch_normalization_80\n",
      "activation_80\n",
      "conv2d_77\n",
      "conv2d_81\n",
      "batch_normalization_77\n",
      "batch_normalization_81\n",
      "activation_77\n",
      "activation_81\n",
      "conv2d_78\n",
      "conv2d_79\n",
      "conv2d_82\n",
      "conv2d_83\n",
      "average_pooling2d_7\n",
      "conv2d_76\n",
      "batch_normalization_78\n",
      "batch_normalization_79\n",
      "batch_normalization_82\n",
      "batch_normalization_83\n",
      "conv2d_84\n",
      "batch_normalization_76\n",
      "activation_78\n",
      "activation_79\n",
      "activation_82\n",
      "activation_83\n",
      "batch_normalization_84\n",
      "activation_76\n",
      "mixed9_0\n",
      "concatenate\n",
      "activation_84\n",
      "mixed9\n",
      "conv2d_89\n",
      "batch_normalization_89\n",
      "activation_89\n",
      "conv2d_86\n",
      "conv2d_90\n",
      "batch_normalization_86\n",
      "batch_normalization_90\n",
      "activation_86\n",
      "activation_90\n",
      "conv2d_87\n",
      "conv2d_88\n",
      "conv2d_91\n",
      "conv2d_92\n",
      "average_pooling2d_8\n",
      "conv2d_85\n",
      "batch_normalization_87\n",
      "batch_normalization_88\n",
      "batch_normalization_91\n",
      "batch_normalization_92\n",
      "conv2d_93\n",
      "batch_normalization_85\n",
      "activation_87\n",
      "activation_88\n",
      "activation_91\n",
      "activation_92\n",
      "batch_normalization_93\n",
      "activation_85\n",
      "mixed9_1\n",
      "concatenate_1\n",
      "activation_93\n",
      "mixed10\n",
      "global_average_pooling2d\n",
      "dense_2\n",
      "dense_3\n",
      "314\n"
     ]
    }
   ],
   "source": [
    "for layer in custom_model2.layers:\n",
    "  print(layer.name)\n",
    "\n",
    "print(len(custom_model2.layers))"
   ]
  },
  {
   "cell_type": "code",
   "execution_count": 47,
   "metadata": {
    "id": "mqkW4AQjSf-z"
   },
   "outputs": [],
   "source": [
    "# we make specific layers trainable for tuning\n",
    "for layer in custom_model2.layers[10:15]:\n",
    "  layer.trainable=True\n",
    "\n",
    "for layer in custom_model2.layers[160:165]:\n",
    "  layer.trainable=True\n",
    "\n",
    "for layer in custom_model2.layers[271:278]:\n",
    "  layer.trainable=True"
   ]
  },
  {
   "cell_type": "code",
   "execution_count": 50,
   "metadata": {
    "colab": {
     "base_uri": "https://localhost:8080/"
    },
    "id": "A-FPGkKGpYk5",
    "outputId": "762b1e87-3271-4036-fd7e-6a445f2c68a0"
   },
   "outputs": [
    {
     "name": "stdout",
     "output_type": "stream",
     "text": [
      "Epoch 1/16\n",
      "29/29 [==============================] - 6s 214ms/step - loss: 0.2471 - accuracy: 0.9133 - val_loss: 2.0286 - val_accuracy: 0.6681\n",
      "Epoch 2/16\n",
      "29/29 [==============================] - 6s 207ms/step - loss: 0.1922 - accuracy: 0.9300 - val_loss: 1.5890 - val_accuracy: 0.6814\n",
      "Epoch 3/16\n",
      "29/29 [==============================] - 6s 213ms/step - loss: 0.1065 - accuracy: 0.9611 - val_loss: 1.8483 - val_accuracy: 0.6814\n",
      "Epoch 4/16\n",
      "29/29 [==============================] - 6s 208ms/step - loss: 0.0870 - accuracy: 0.9689 - val_loss: 1.6516 - val_accuracy: 0.6681\n",
      "Epoch 5/16\n",
      "29/29 [==============================] - 6s 211ms/step - loss: 0.0717 - accuracy: 0.9733 - val_loss: 2.1154 - val_accuracy: 0.6195\n",
      "Epoch 6/16\n",
      "29/29 [==============================] - 6s 207ms/step - loss: 0.2290 - accuracy: 0.9289 - val_loss: 3.2584 - val_accuracy: 0.5221\n",
      "Epoch 7/16\n",
      "29/29 [==============================] - 6s 208ms/step - loss: 0.4655 - accuracy: 0.8678 - val_loss: 3.0723 - val_accuracy: 0.5575\n",
      "Epoch 8/16\n",
      "29/29 [==============================] - 6s 209ms/step - loss: 0.4252 - accuracy: 0.8922 - val_loss: 1.7765 - val_accuracy: 0.6549\n",
      "Epoch 9/16\n",
      "29/29 [==============================] - 6s 209ms/step - loss: 0.1183 - accuracy: 0.9600 - val_loss: 1.6267 - val_accuracy: 0.6770\n",
      "Epoch 10/16\n",
      "29/29 [==============================] - 6s 208ms/step - loss: 0.1195 - accuracy: 0.9556 - val_loss: 1.9681 - val_accuracy: 0.6372\n",
      "Epoch 11/16\n",
      "29/29 [==============================] - 6s 209ms/step - loss: 0.1048 - accuracy: 0.9600 - val_loss: 1.5786 - val_accuracy: 0.6903\n",
      "Epoch 12/16\n",
      "29/29 [==============================] - 6s 207ms/step - loss: 0.1676 - accuracy: 0.9322 - val_loss: 1.7972 - val_accuracy: 0.6947\n",
      "Epoch 13/16\n",
      "29/29 [==============================] - 6s 208ms/step - loss: 0.1412 - accuracy: 0.9422 - val_loss: 1.9090 - val_accuracy: 0.6681\n",
      "Epoch 14/16\n",
      "29/29 [==============================] - 6s 209ms/step - loss: 0.3916 - accuracy: 0.8811 - val_loss: 2.1835 - val_accuracy: 0.6372\n",
      "Epoch 15/16\n",
      "29/29 [==============================] - 6s 212ms/step - loss: 0.3081 - accuracy: 0.9000 - val_loss: 1.9021 - val_accuracy: 0.6416\n",
      "Epoch 16/16\n",
      "29/29 [==============================] - 6s 207ms/step - loss: 0.1433 - accuracy: 0.9478 - val_loss: 1.6903 - val_accuracy: 0.6726\n",
      "Training time: -142.37856316566467\n",
      "23/23 [==============================] - 2s 83ms/step - loss: 1.6903 - accuracy: 0.6726\n",
      "[INFO] loss=1.6903, accuracy: 67.2566%\n"
     ]
    }
   ],
   "source": [
    "t=time.time()\n",
    "hist = custom_model2.fit(X_train, y_train, batch_size=32, epochs=16, verbose=1, validation_data=(X_test, y_test))\n",
    "print('Training time: %s' % (t - time.time()))\n",
    "(loss, accuracy) = custom_model2.evaluate(X_test, y_test, batch_size=10, verbose=1)\n",
    "\n",
    "print(\"[INFO] loss={:.4f}, accuracy: {:.4f}%\".format(loss,accuracy * 100))"
   ]
  },
  {
   "cell_type": "code",
   "execution_count": 51,
   "metadata": {
    "colab": {
     "base_uri": "https://localhost:8080/",
     "height": 406
    },
    "id": "yKde3De_pk1O",
    "outputId": "1adae61f-b1d4-4058-a72d-28e1ef9551d7"
   },
   "outputs": [
    {
     "data": {
      "image/png": "[encoded data removed]",
      "text/plain": [
       "<Figure size 560x400 with 1 Axes>"
      ]
     },
     "metadata": {},
     "output_type": "display_data"
    }
   ],
   "source": [
    "vis(hist)"
   ]
  },
  {
   "cell_type": "markdown",
   "metadata": {
    "id": "DvSGuKyFl_XB"
   },
   "source": [
    "### ÖMER KAAN VURAL"
   ]
  },
  {
   "cell_type": "code",
   "execution_count": null,
   "metadata": {
    "id": "HIqFuRhWOUWy"
   },
   "outputs": [],
   "source": []
  }
 ],
 "metadata": {
  "accelerator": "GPU",
  "colab": {
   "collapsed_sections": [],
   "name": "assignment4.ipynb",
   "provenance": []
  },
  "kernelspec": {
   "display_name": "Python 3 (ipykernel)",
   "language": "python",
   "name": "python3"
  },
  "language_info": {
   "codemirror_mode": {
    "name": "ipython",
    "version": 3
   },
   "file_extension": ".py",
   "mimetype": "text/x-python",
   "name": "python",
   "nbconvert_exporter": "python",
   "pygments_lexer": "ipython3",
   "version": "3.9.7"
  }
 },
 "nbformat": 4,
 "nbformat_minor": 1
}
